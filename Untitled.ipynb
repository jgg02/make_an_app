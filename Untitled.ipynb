{
 "cells": [
  {
   "cell_type": "markdown",
   "metadata": {},
   "source": [
    "# Make an App"
   ]
  },
  {
   "cell_type": "markdown",
   "metadata": {},
   "source": [
    "Blah blah"
   ]
  },
  {
   "cell_type": "markdown",
   "metadata": {},
   "source": [
    "### Setup Your System Via Online IDE\n",
    "\n",
    "1. Create a GitHub Account `https://github.com/join`\n",
    "    - username/email/password\n",
    "    - Free Account\n",
    "    - verify email\n",
    "1. Create a New Repository (\"Folder\")\n",
    "    - name: `app-name`\n",
    "    - Public\n",
    "    - Initialize with `README`\n",
    "    - Create!\n",
    "    - Copy the URL, for example `https://github.com/jgg02/email-manager`\n",
    "1. Link to a GitPod Account `https://www.gitpod.io/`\n",
    "    - login\n",
    "    - Authorize Gitpod/TypeFox\n",
    "    - Create Free Account\n",
    "1. Merge URLs `https://gitpod.io#` + `https://github.com/jgg02/email-manager`\n",
    "    - `https://gitpod.io/#https://github.com/jgg02/email-manager`"
   ]
  },
  {
   "cell_type": "markdown",
   "metadata": {},
   "source": [
    "### Generate App Skeleton\n",
    "`\n",
    "run `rails new app-name`"
   ]
  },
  {
   "cell_type": "code",
   "execution_count": null,
   "metadata": {
    "collapsed": true
   },
   "outputs": [],
   "source": []
  }
 ],
 "metadata": {
  "kernelspec": {
   "display_name": "Python [Root]",
   "language": "python",
   "name": "Python [Root]"
  },
  "language_info": {
   "codemirror_mode": {
    "name": "ipython",
    "version": 2
   },
   "file_extension": ".py",
   "mimetype": "text/x-python",
   "name": "python",
   "nbconvert_exporter": "python",
   "pygments_lexer": "ipython2",
   "version": "2.7.12"
  }
 },
 "nbformat": 4,
 "nbformat_minor": 0
}
